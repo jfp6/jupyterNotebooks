{
 "cells": [
  {
   "cell_type": "code",
   "execution_count": 1,
   "id": "d17a0532",
   "metadata": {},
   "outputs": [],
   "source": [
    "from iapws import IAPWS97\n",
    "import math\n",
    "import numpy as np\n",
    "import os, sys\n",
    "import matplotlib.pyplot as plt\n",
    "from pint import UnitRegistry\n",
    "ur = UnitRegistry()\n",
    "ur_ = ur.Quantity\n",
    "pi = math.pi\n"
   ]
  },
  {
   "cell_type": "code",
   "execution_count": 2,
   "id": "83b667f6",
   "metadata": {},
   "outputs": [],
   "source": [
    "x = 3+4"
   ]
  },
  {
   "cell_type": "code",
   "execution_count": null,
   "id": "25aee881",
   "metadata": {},
   "outputs": [],
   "source": []
  }
 ],
 "metadata": {
  "kernelspec": {
   "display_name": "Python 3 (ipykernel)",
   "language": "python",
   "name": "python3"
  },
  "language_info": {
   "codemirror_mode": {
    "name": "ipython",
    "version": 3
   },
   "file_extension": ".py",
   "mimetype": "text/x-python",
   "name": "python",
   "nbconvert_exporter": "python",
   "pygments_lexer": "ipython3",
   "version": "3.8.12"
  }
 },
 "nbformat": 4,
 "nbformat_minor": 5
}
